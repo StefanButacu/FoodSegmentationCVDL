{
 "cells": [
  {
   "cell_type": "code",
   "execution_count": 1,
   "metadata": {
    "collapsed": true
   },
   "outputs": [],
   "source": [
    "import torch\n",
    "import albumentations as A\n",
    "from albumentations.pytorch import ToTensorV2\n",
    "from tqdm import tqdm\n",
    "import torch.nn as nn\n",
    "import torch.optim as optim\n",
    "from models.unet_from_scratch.UNET_MODEL_FROM_SCRATCH import UNET_FROM_SCRATCH\n",
    "from models.unet_from_scratch.utils import get_loaders, save_checkpoint, print_measurements, save_predictions_as_imgs, \\\n",
    "    load_checkpoint\n",
    "from models.unet_from_scratch.visual import DatasetViewer\n",
    "\n",
    "LEARNING_RATE = 1e-4\n",
    "DEVICE = \"cuda\" if torch.cuda.is_available() else \"cpu\"\n",
    "BATCH_SIZE = 16\n",
    "NUM_EPOCHS = 10\n",
    "NUM_WORKERS = 2\n",
    "IMAGE_HEIGHT = 240\n",
    "IMAGE_WIDTH = 240\n",
    "PIN_MEMORY = True\n",
    "LOAD_MODEL = False\n",
    "\n",
    "TRAIN_IMG_DIR = 'E:\\CVDL\\MyApp\\models\\data\\images'\n",
    "TRAIN_MASK_DIR = 'E:\\CVDL\\MyApp\\models\\data\\labels'\n",
    "VAL_IMG_DIR = 'E:\\CVDL\\MyApp\\models\\data\\\\validationimages'\n",
    "VAL_MASK_DIR = 'E:\\CVDL\\MyApp\\models\\data\\\\validationlabels'\n",
    "\n",
    "train_transfrom = A.Compose(\n",
    "    [\n",
    "        A.Resize(height=IMAGE_HEIGHT, width=IMAGE_WIDTH),\n",
    "        A.Rotate(limit=35, p=1.0),\n",
    "        A.HorizontalFlip(p=0.5),\n",
    "        A.VerticalFlip(p=0.1),\n",
    "        A.Normalize(mean=[0.0, 0.0, 0.0],\n",
    "                    std=[1.0, 1.0, 1.0],\n",
    "                    max_pixel_value=255.0\n",
    "                    ),\n",
    "        ToTensorV2()\n",
    "    ]\n",
    ")\n",
    "\n",
    "val_transfrom = A.Compose(\n",
    "    [\n",
    "        A.Resize(height=IMAGE_HEIGHT, width=IMAGE_WIDTH),\n",
    "        A.Normalize(mean=[0.0, 0.0, 0.0],\n",
    "                    std=[1.0, 1.0, 1.0],\n",
    "                    max_pixel_value=255.0\n",
    "                    ),\n",
    "        ToTensorV2()\n",
    "    ]\n",
    ")\n"
   ]
  },
  {
   "cell_type": "code",
   "execution_count": 2,
   "outputs": [],
   "source": [
    "train_loader, val_loader = get_loaders(TRAIN_IMG_DIR,\n",
    "                                           TRAIN_MASK_DIR,\n",
    "                                           VAL_IMG_DIR,\n",
    "                                           VAL_MASK_DIR,\n",
    "                                           BATCH_SIZE,\n",
    "                                           train_transfrom,\n",
    "                                           val_transfrom,\n",
    "                                           NUM_WORKERS,\n",
    "                                           PIN_MEMORY\n",
    "                                           )"
   ],
   "metadata": {
    "collapsed": false
   }
  },
  {
   "cell_type": "code",
   "execution_count": 3,
   "outputs": [],
   "source": [
    "def train_fn(loader, model, optimizer, loss_fn, scaler):\n",
    "    \"\"\"\n",
    "    :param loader:\n",
    "    :param model:\n",
    "    :param optimizer: - how the network will be updated based on the loss function\n",
    "    :param loss_fn: - quantity that will be minimized during training\n",
    "    :param scaler:\n",
    "    :return:\n",
    "    \"\"\"\n",
    "    loop = tqdm(loader)\n",
    "    for batch_idx, (data, targets) in enumerate(loop):\n",
    "        data = data.to(device=DEVICE)\n",
    "        targets = targets.unsqueeze(1).to(device=DEVICE)\n",
    "        # forward\n",
    "        with torch.cuda.amp.autocast():\n",
    "            pred = model(data)\n",
    "            loss = loss_fn(pred, targets)\n",
    "\n",
    "        optimizer.zero_grad()\n",
    "        scaler.scale(loss).backward()\n",
    "        scaler.step(optimizer)\n",
    "        scaler.update()\n",
    "\n",
    "        loop.set_postfix(loss=loss.item())"
   ],
   "metadata": {
    "collapsed": false
   }
  },
  {
   "cell_type": "markdown",
   "source": [
    "## UNET FROM SCRATCH\n"
   ],
   "metadata": {
    "collapsed": false
   }
  },
  {
   "cell_type": "code",
   "execution_count": 4,
   "outputs": [
    {
     "name": "stderr",
     "output_type": "stream",
     "text": [
      "E:\\CVDL\\MyApp\\venv\\lib\\site-packages\\torch\\cuda\\amp\\grad_scaler.py:118: UserWarning: torch.cuda.amp.GradScaler is enabled, but CUDA is not available.  Disabling.\n",
      "  warnings.warn(\"torch.cuda.amp.GradScaler is enabled, but CUDA is not available.  Disabling.\")\n"
     ]
    },
    {
     "name": "stdout",
     "output_type": "stream",
     "text": [
      "Epoch 0 / 10\n"
     ]
    },
    {
     "name": "stderr",
     "output_type": "stream",
     "text": [
      "  0%|          | 0/7 [00:00<?, ?it/s]E:\\CVDL\\MyApp\\venv\\lib\\site-packages\\torch\\amp\\autocast_mode.py:202: UserWarning: User provided device_type of 'cuda', but CUDA is not available. Disabling\n",
      "  warnings.warn('User provided device_type of \\'cuda\\', but CUDA is not available. Disabling')\n",
      "100%|██████████| 7/7 [01:33<00:00, 13.30s/it, loss=0.535]\n"
     ]
    },
    {
     "name": "stdout",
     "output_type": "stream",
     "text": [
      "=>saving checkpoint to check_unet_scratch.pth.tar\n",
      "Got 3908632/5760000 with acc 67.86\n",
      "Got dice_score:0.7227222323417664 \n",
      "Got ioc1:2.468986307714673 \n",
      "Saving images to.... unet_from_scratch_saved_photos/\n",
      "Finish saving images...\n",
      "Epoch 1 / 10\n"
     ]
    },
    {
     "name": "stderr",
     "output_type": "stream",
     "text": [
      "100%|██████████| 7/7 [01:30<00:00, 12.99s/it, loss=0.475]\n"
     ]
    },
    {
     "name": "stdout",
     "output_type": "stream",
     "text": [
      "=>saving checkpoint to check_unet_scratch.pth.tar\n",
      "Got 3529306/5760000 with acc 61.27\n",
      "Got dice_score:0.46788859367370605 \n",
      "Got ioc1:1.5058266716433062 \n",
      "Saving images to.... unet_from_scratch_saved_photos/\n",
      "Finish saving images...\n",
      "Epoch 2 / 10\n"
     ]
    },
    {
     "name": "stderr",
     "output_type": "stream",
     "text": [
      "100%|██████████| 7/7 [01:34<00:00, 13.48s/it, loss=0.459]\n"
     ]
    },
    {
     "name": "stdout",
     "output_type": "stream",
     "text": [
      "=>saving checkpoint to check_unet_scratch.pth.tar\n",
      "Got 2785898/5760000 with acc 48.37\n",
      "Got dice_score:0.06620122492313385 \n",
      "Got ioc1:0.1834574312210464 \n",
      "Saving images to.... unet_from_scratch_saved_photos/\n",
      "Finish saving images...\n",
      "Epoch 3 / 10\n"
     ]
    },
    {
     "name": "stderr",
     "output_type": "stream",
     "text": [
      "100%|██████████| 7/7 [01:40<00:00, 14.33s/it, loss=0.442]\n"
     ]
    },
    {
     "name": "stdout",
     "output_type": "stream",
     "text": [
      "=>saving checkpoint to check_unet_scratch.pth.tar\n",
      "Got 2876878/5760000 with acc 49.95\n",
      "Got dice_score:0.12496374547481537 \n",
      "Got ioc1:0.3359548923891483 \n",
      "Saving images to.... unet_from_scratch_saved_photos/\n",
      "Finish saving images...\n",
      "Epoch 4 / 10\n"
     ]
    },
    {
     "name": "stderr",
     "output_type": "stream",
     "text": [
      "100%|██████████| 7/7 [01:37<00:00, 13.86s/it, loss=0.378]\n"
     ]
    },
    {
     "name": "stdout",
     "output_type": "stream",
     "text": [
      "=>saving checkpoint to check_unet_scratch.pth.tar\n",
      "Got 3958495/5760000 with acc 68.72\n",
      "Got dice_score:0.6235316395759583 \n",
      "Got ioc1:2.100407048575176 \n",
      "Saving images to.... unet_from_scratch_saved_photos/\n",
      "Finish saving images...\n",
      "Epoch 5 / 10\n"
     ]
    },
    {
     "name": "stderr",
     "output_type": "stream",
     "text": [
      "100%|██████████| 7/7 [01:36<00:00, 13.76s/it, loss=0.368]\n"
     ]
    },
    {
     "name": "stdout",
     "output_type": "stream",
     "text": [
      "=>saving checkpoint to check_unet_scratch.pth.tar\n",
      "Got 4512683/5760000 with acc 78.35\n",
      "Got dice_score:0.7699885368347168 \n",
      "Got ioc1:2.6580700344356276 \n",
      "Saving images to.... unet_from_scratch_saved_photos/\n",
      "Finish saving images...\n",
      "Epoch 6 / 10\n"
     ]
    },
    {
     "name": "stderr",
     "output_type": "stream",
     "text": [
      "100%|██████████| 7/7 [01:36<00:00, 13.79s/it, loss=0.375]\n"
     ]
    },
    {
     "name": "stdout",
     "output_type": "stream",
     "text": [
      "=>saving checkpoint to check_unet_scratch.pth.tar\n",
      "Got 4683291/5760000 with acc 81.31\n",
      "Got dice_score:0.8241996765136719 \n",
      "Got ioc1:2.864524281035736 \n",
      "Saving images to.... unet_from_scratch_saved_photos/\n",
      "Finish saving images...\n",
      "Epoch 7 / 10\n"
     ]
    },
    {
     "name": "stderr",
     "output_type": "stream",
     "text": [
      "100%|██████████| 7/7 [01:35<00:00, 13.67s/it, loss=0.338]\n"
     ]
    },
    {
     "name": "stdout",
     "output_type": "stream",
     "text": [
      "=>saving checkpoint to check_unet_scratch.pth.tar\n",
      "Got 4887653/5760000 with acc 84.86\n",
      "Got dice_score:0.8536372184753418 \n",
      "Got ioc1:2.9738648985479714 \n",
      "Saving images to.... unet_from_scratch_saved_photos/\n",
      "Finish saving images...\n",
      "Epoch 8 / 10\n"
     ]
    },
    {
     "name": "stderr",
     "output_type": "stream",
     "text": [
      "100%|██████████| 7/7 [01:36<00:00, 13.73s/it, loss=0.335]\n"
     ]
    },
    {
     "name": "stdout",
     "output_type": "stream",
     "text": [
      "=>saving checkpoint to check_unet_scratch.pth.tar\n",
      "Got 4938808/5760000 with acc 85.74\n",
      "Got dice_score:0.8622197508811951 \n",
      "Got ioc1:3.0049388583624106 \n",
      "Saving images to.... unet_from_scratch_saved_photos/\n",
      "Finish saving images...\n",
      "Epoch 9 / 10\n"
     ]
    },
    {
     "name": "stderr",
     "output_type": "stream",
     "text": [
      "100%|██████████| 7/7 [01:36<00:00, 13.79s/it, loss=0.356]\n"
     ]
    },
    {
     "name": "stdout",
     "output_type": "stream",
     "text": [
      "=>saving checkpoint to check_unet_scratch.pth.tar\n",
      "Got 4854015/5760000 with acc 84.27\n",
      "Got dice_score:0.8372305631637573 \n",
      "Got ioc1:2.8900847829186023 \n",
      "Saving images to.... unet_from_scratch_saved_photos/\n",
      "Finish saving images...\n"
     ]
    }
   ],
   "source": [
    "#########################\n",
    "model = UNET_FROM_SCRATCH(in_channels=3, out_channels=1).to(DEVICE)\n",
    "loss_fn = nn.BCEWithLogitsLoss()  # applies sigmoid on output\n",
    "optimizer = optim.Adam(model.parameters(), lr=LEARNING_RATE)\n",
    "scaler = torch.cuda.amp.GradScaler()\n",
    "for epoch in range(NUM_EPOCHS):\n",
    "    print(f\"Epoch {epoch} / {NUM_EPOCHS}\")\n",
    "    train_fn(train_loader, model, optimizer, loss_fn, scaler)\n",
    "\n",
    "    # save model\n",
    "    checkpoint = {\n",
    "        \"state_dict\": model.state_dict(),\n",
    "        \"optimizer\": optimizer.state_dict()\n",
    "    }\n",
    "    save_checkpoint(checkpoint, 'check_unet_scratch.pth.tar')\n",
    "    print_measurements(val_loader, model, device=DEVICE)\n",
    "\n",
    "    # check acc\n",
    "    # print examples\n",
    "    save_predictions_as_imgs(val_loader, model, folder=\"unet_from_scratch_saved_photos/\", device=DEVICE)"
   ],
   "metadata": {
    "collapsed": false
   }
  },
  {
   "cell_type": "code",
   "execution_count": 5,
   "outputs": [],
   "source": [
    "## Validation UNET_FROM_SCRATCH"
   ],
   "metadata": {
    "collapsed": false
   }
  },
  {
   "cell_type": "code",
   "execution_count": 6,
   "outputs": [],
   "source": [
    "import torch\n",
    "import albumentations as A\n",
    "from albumentations.pytorch import ToTensorV2\n",
    "from tqdm import tqdm\n",
    "import torch.nn as nn\n",
    "import torch.optim as optim\n",
    "from models.unet_from_scratch.utils import get_loaders, save_checkpoint, print_measurements, save_predictions_as_imgs, \\\n",
    "    load_checkpoint\n",
    "\n",
    "LEARNING_RATE = 1e-4\n",
    "DEVICE = \"cuda\" if torch.cuda.is_available() else \"cpu\"\n",
    "BATCH_SIZE = 16\n",
    "NUM_EPOCHS = 10\n",
    "NUM_WORKERS = 2\n",
    "IMAGE_HEIGHT = 160\n",
    "IMAGE_WIDTH = 240\n",
    "PIN_MEMORY = True\n",
    "LOAD_MODEL = True\n",
    "\n",
    "TRAIN_IMG_DIR = 'E:\\CVDL\\MyApp\\models\\data\\\\images'\n",
    "TRAIN_MASK_DIR = 'E:\\CVDL\\MyApp\\models\\data\\labels'\n",
    "VAL_IMG_DIR = 'E:\\CVDL\\MyApp\\models\\data\\\\validationimages'\n",
    "VAL_MASK_DIR = 'E:\\CVDL\\MyApp\\models\\data\\\\validationlabels'\n",
    "\n",
    "train_transfrom = A.Compose(\n",
    "    [\n",
    "        A.Resize(height=IMAGE_HEIGHT, width=IMAGE_WIDTH),\n",
    "        A.Rotate(limit=35, p=1.0),\n",
    "        A.HorizontalFlip(p=0.5),\n",
    "        A.VerticalFlip(p=0.1),\n",
    "        A.Normalize(mean=[0.0, 0.0, 0.0],\n",
    "                    std=[1.0, 1.0, 1.0],\n",
    "                    max_pixel_value=255.0\n",
    "                    ),\n",
    "        ToTensorV2()\n",
    "    ]\n",
    ")\n",
    "\n",
    "val_transfrom = A.Compose(\n",
    "    [\n",
    "        A.Resize(height=IMAGE_HEIGHT, width=IMAGE_WIDTH),\n",
    "        A.Normalize(mean=[0.0, 0.0, 0.0],\n",
    "                    std=[1.0, 1.0, 1.0],\n",
    "                    max_pixel_value=255.0\n",
    "                    ),\n",
    "        ToTensorV2()\n",
    "    ]\n",
    ")\n",
    "train_loader, val_loader = get_loaders(TRAIN_IMG_DIR,\n",
    "                                       TRAIN_MASK_DIR,\n",
    "                                       VAL_IMG_DIR,\n",
    "                                       VAL_MASK_DIR,\n",
    "                                       BATCH_SIZE,\n",
    "                                       train_transfrom,\n",
    "                                       val_transfrom,\n",
    "                                       NUM_WORKERS,\n",
    "                                       PIN_MEMORY\n",
    "                                       )\n",
    "\n"
   ],
   "metadata": {
    "collapsed": false
   }
  },
  {
   "cell_type": "code",
   "execution_count": 7,
   "outputs": [
    {
     "name": "stdout",
     "output_type": "stream",
     "text": [
      "Got 3188987/3840000 with acc 83.05\n",
      "Got dice_score:0.8207998871803284 \n",
      "Got ioc1:2.81063116176925 \n",
      "Saving images to.... unet_validate/\n",
      "Finish saving images...\n"
     ]
    }
   ],
   "source": [
    "model_unet = UNET_FROM_SCRATCH(in_channels=3, out_channels=1).to(DEVICE)\n",
    "if LOAD_MODEL:\n",
    "    load_checkpoint(torch.load('check_unet_scratch.pth.tar'), model_unet)\n",
    "print_measurements(val_loader, model_unet)\n",
    "save_predictions_as_imgs(val_loader, model_unet, folder=\"unet_validate/\", device=DEVICE)\n",
    "\n"
   ],
   "metadata": {
    "collapsed": false
   }
  },
  {
   "cell_type": "code",
   "execution_count": 8,
   "outputs": [
    {
     "name": "stdout",
     "output_type": "stream",
     "text": [
      "Epoch 0 / 10\n"
     ]
    },
    {
     "name": "stderr",
     "output_type": "stream",
     "text": [
      "100%|██████████| 7/7 [01:11<00:00, 10.17s/it, loss=0.54] \n"
     ]
    },
    {
     "name": "stdout",
     "output_type": "stream",
     "text": [
      "=>saving checkpoint to check_resnet_unet.pth.tar\n",
      "Got 2413778/3840000 with acc 62.86\n",
      "Got dice_score:0.5606656074523926 \n",
      "Got ioc1:1.8801244402213424 \n",
      "Saving images to.... unet_resnet_saved_photos/\n",
      "Finish saving images...\n",
      "Epoch 1 / 10\n"
     ]
    },
    {
     "name": "stderr",
     "output_type": "stream",
     "text": [
      "100%|██████████| 7/7 [01:10<00:00, 10.04s/it, loss=0.392]\n"
     ]
    },
    {
     "name": "stdout",
     "output_type": "stream",
     "text": [
      "=>saving checkpoint to check_resnet_unet.pth.tar\n",
      "Got 2175172/3840000 with acc 56.65\n",
      "Got dice_score:0.3392743468284607 \n",
      "Got ioc1:1.1420855379039048 \n",
      "Saving images to.... unet_resnet_saved_photos/\n",
      "Finish saving images...\n",
      "Epoch 2 / 10\n"
     ]
    },
    {
     "name": "stderr",
     "output_type": "stream",
     "text": [
      "100%|██████████| 7/7 [01:09<00:00,  9.99s/it, loss=0.382]\n"
     ]
    },
    {
     "name": "stdout",
     "output_type": "stream",
     "text": [
      "=>saving checkpoint to check_resnet_unet.pth.tar\n",
      "Got 2843467/3840000 with acc 74.05\n",
      "Got dice_score:0.6803023219108582 \n",
      "Got ioc1:2.3069720931711197 \n",
      "Saving images to.... unet_resnet_saved_photos/\n",
      "Finish saving images...\n",
      "Epoch 3 / 10\n"
     ]
    },
    {
     "name": "stderr",
     "output_type": "stream",
     "text": [
      "100%|██████████| 7/7 [01:09<00:00,  9.94s/it, loss=0.382]\n"
     ]
    },
    {
     "name": "stdout",
     "output_type": "stream",
     "text": [
      "=>saving checkpoint to check_resnet_unet.pth.tar\n",
      "Got 3382735/3840000 with acc 88.09\n",
      "Got dice_score:0.8784723877906799 \n",
      "Got ioc1:3.0422105143383327 \n",
      "Saving images to.... unet_resnet_saved_photos/\n",
      "Finish saving images...\n",
      "Epoch 4 / 10\n"
     ]
    },
    {
     "name": "stderr",
     "output_type": "stream",
     "text": [
      "100%|██████████| 7/7 [01:10<00:00, 10.01s/it, loss=0.355]\n"
     ]
    },
    {
     "name": "stdout",
     "output_type": "stream",
     "text": [
      "=>saving checkpoint to check_resnet_unet.pth.tar\n",
      "Got 3481290/3840000 with acc 90.66\n",
      "Got dice_score:0.9043213129043579 \n",
      "Got ioc1:3.135559102166642 \n",
      "Saving images to.... unet_resnet_saved_photos/\n",
      "Finish saving images...\n",
      "Epoch 5 / 10\n"
     ]
    },
    {
     "name": "stderr",
     "output_type": "stream",
     "text": [
      "100%|██████████| 7/7 [01:09<00:00,  9.92s/it, loss=0.339]\n"
     ]
    },
    {
     "name": "stdout",
     "output_type": "stream",
     "text": [
      "=>saving checkpoint to check_resnet_unet.pth.tar\n",
      "Got 3515468/3840000 with acc 91.55\n",
      "Got dice_score:0.9153851270675659 \n",
      "Got ioc1:3.1812779997898604 \n",
      "Saving images to.... unet_resnet_saved_photos/\n",
      "Finish saving images...\n",
      "Epoch 6 / 10\n"
     ]
    },
    {
     "name": "stderr",
     "output_type": "stream",
     "text": [
      "100%|██████████| 7/7 [01:09<00:00,  9.95s/it, loss=0.313]\n"
     ]
    },
    {
     "name": "stdout",
     "output_type": "stream",
     "text": [
      "=>saving checkpoint to check_resnet_unet.pth.tar\n",
      "Got 3503086/3840000 with acc 91.23\n",
      "Got dice_score:0.904784619808197 \n",
      "Got ioc1:3.1404488273229068 \n",
      "Saving images to.... unet_resnet_saved_photos/\n",
      "Finish saving images...\n",
      "Epoch 7 / 10\n"
     ]
    },
    {
     "name": "stderr",
     "output_type": "stream",
     "text": [
      "100%|██████████| 7/7 [01:09<00:00,  9.98s/it, loss=0.347]\n"
     ]
    },
    {
     "name": "stdout",
     "output_type": "stream",
     "text": [
      "=>saving checkpoint to check_resnet_unet.pth.tar\n",
      "Got 3484602/3840000 with acc 90.74\n",
      "Got dice_score:0.9061997532844543 \n",
      "Got ioc1:3.1505453967061587 \n",
      "Saving images to.... unet_resnet_saved_photos/\n",
      "Finish saving images...\n",
      "Epoch 8 / 10\n"
     ]
    },
    {
     "name": "stderr",
     "output_type": "stream",
     "text": [
      "100%|██████████| 7/7 [01:10<00:00, 10.01s/it, loss=0.282]\n"
     ]
    },
    {
     "name": "stdout",
     "output_type": "stream",
     "text": [
      "=>saving checkpoint to check_resnet_unet.pth.tar\n",
      "Got 3547097/3840000 with acc 92.37\n",
      "Got dice_score:0.9194938540458679 \n",
      "Got ioc1:3.1943440784418065 \n",
      "Saving images to.... unet_resnet_saved_photos/\n",
      "Finish saving images...\n",
      "Epoch 9 / 10\n"
     ]
    },
    {
     "name": "stderr",
     "output_type": "stream",
     "text": [
      "100%|██████████| 7/7 [01:10<00:00, 10.06s/it, loss=0.299]\n"
     ]
    },
    {
     "name": "stdout",
     "output_type": "stream",
     "text": [
      "=>saving checkpoint to check_resnet_unet.pth.tar\n",
      "Got 3560640/3840000 with acc 92.73\n",
      "Got dice_score:0.9258744120597839 \n",
      "Got ioc1:3.228239647088128 \n",
      "Saving images to.... unet_resnet_saved_photos/\n",
      "Finish saving images...\n"
     ]
    }
   ],
   "source": [
    "from models.unet_from_scratch.model import MyUNET, TrucnateResNET_UNET\n",
    "\n",
    "model = TrucnateResNET_UNET().to(DEVICE)\n",
    "loss_fn = nn.BCEWithLogitsLoss()  # applies sigmoid on output\n",
    "optimizer = optim.Adam(model.parameters(), lr=LEARNING_RATE)\n",
    "scaler = torch.cuda.amp.GradScaler()\n",
    "for epoch in range(NUM_EPOCHS):\n",
    "    print(f\"Epoch {epoch} / {NUM_EPOCHS}\")\n",
    "    train_fn(train_loader, model, optimizer, loss_fn, scaler)\n",
    "\n",
    "    # save model\n",
    "    checkpoint = {\n",
    "        \"state_dict\": model.state_dict(),\n",
    "        \"optimizer\": optimizer.state_dict()\n",
    "    }\n",
    "    save_checkpoint(checkpoint, 'check_resnet_unet.pth.tar')\n",
    "    print_measurements(val_loader, model, device=DEVICE)\n",
    "\n",
    "    # check acc\n",
    "    # print examples\n",
    "    save_predictions_as_imgs(val_loader, model, folder=\"unet_resnet_saved_photos/\", device=DEVICE)\n",
    "\n"
   ],
   "metadata": {
    "collapsed": false
   }
  },
  {
   "cell_type": "code",
   "execution_count": 9,
   "outputs": [
    {
     "name": "stdout",
     "output_type": "stream",
     "text": [
      "Got 3560640/3840000 with acc 92.73\n",
      "Got dice_score:0.9258744120597839 \n",
      "Got ioc1:3.228239647088128 \n",
      "Saving images to.... validate/\n",
      "Finish saving images...\n"
     ]
    }
   ],
   "source": [
    "model_resnet_unet = TrucnateResNET_UNET().to(DEVICE)\n",
    "if LOAD_MODEL:\n",
    "    load_checkpoint(torch.load('check_resnet_unet.pth.tar'), model_resnet_unet)\n",
    "print_measurements(val_loader, model_resnet_unet)\n",
    "save_predictions_as_imgs(val_loader, model_resnet_unet, folder=\"validate/\", device=DEVICE)\n",
    "\n"
   ],
   "metadata": {
    "collapsed": false
   }
  },
  {
   "cell_type": "code",
   "execution_count": 9,
   "outputs": [],
   "source": [],
   "metadata": {
    "collapsed": false
   }
  }
 ],
 "metadata": {
  "kernelspec": {
   "display_name": "Python 3",
   "language": "python",
   "name": "python3"
  },
  "language_info": {
   "codemirror_mode": {
    "name": "ipython",
    "version": 2
   },
   "file_extension": ".py",
   "mimetype": "text/x-python",
   "name": "python",
   "nbconvert_exporter": "python",
   "pygments_lexer": "ipython2",
   "version": "2.7.6"
  }
 },
 "nbformat": 4,
 "nbformat_minor": 0
}
