{
 "cells": [
  {
   "cell_type": "code",
   "execution_count": null,
   "metadata": {
    "collapsed": true,
    "pycharm": {
     "is_executing": true
    }
   },
   "outputs": [],
   "source": [
    "import torch\n",
    "import albumentations as A\n",
    "from albumentations.pytorch import ToTensorV2\n",
    "from tqdm import tqdm\n",
    "import torch.nn as nn\n",
    "import torch.optim as optim\n",
    "from models.unet_from_scratch.UNET_MODEL_FROM_SCRATCH import UNET_FROM_SCRATCH\n",
    "from models.unet_from_scratch.utils import get_loaders, save_checkpoint, print_measurements, save_predictions_as_imgs, \\\n",
    "    load_checkpoint\n",
    "from models.unet_from_scratch.visual import DatasetViewer\n",
    "\n",
    "LEARNING_RATE = 1e-4\n",
    "DEVICE = \"cuda\" if torch.cuda.is_available() else \"cpu\"\n",
    "BATCH_SIZE = 16\n",
    "NUM_EPOCHS = 10\n",
    "NUM_WORKERS = 2\n",
    "IMAGE_HEIGHT = 240\n",
    "IMAGE_WIDTH = 240\n",
    "PIN_MEMORY = True\n",
    "LOAD_MODEL = True\n",
    "\n",
    "TRAIN_IMG_DIR = 'E:\\CVDL\\MyApp\\models\\data\\images'\n",
    "TRAIN_MASK_DIR = 'E:\\CVDL\\MyApp\\models\\data\\labels'\n",
    "VAL_IMG_DIR = 'E:\\CVDL\\MyApp\\models\\data\\\\validationimages'\n",
    "VAL_MASK_DIR = 'E:\\CVDL\\MyApp\\models\\data\\\\validationlabels'\n",
    "\n",
    "train_transfrom = A.Compose(\n",
    "    [\n",
    "        A.Resize(height=IMAGE_HEIGHT, width=IMAGE_WIDTH),\n",
    "        A.Rotate(limit=35, p=1.0),\n",
    "        A.HorizontalFlip(p=0.5),\n",
    "        A.VerticalFlip(p=0.1),\n",
    "        A.Normalize(mean=[0.0, 0.0, 0.0],\n",
    "                    std=[1.0, 1.0, 1.0],\n",
    "                    max_pixel_value=255.0\n",
    "                    ),\n",
    "        ToTensorV2()\n",
    "    ]\n",
    ")\n",
    "\n",
    "val_transfrom = A.Compose(\n",
    "    [\n",
    "        A.Resize(height=IMAGE_HEIGHT, width=IMAGE_WIDTH),\n",
    "        A.Normalize(mean=[0.0, 0.0, 0.0],\n",
    "                    std=[1.0, 1.0, 1.0],\n",
    "                    max_pixel_value=255.0\n",
    "                    ),\n",
    "        ToTensorV2()\n",
    "    ]\n",
    ")\n"
   ]
  },
  {
   "cell_type": "code",
   "execution_count": 1,
   "outputs": [
    {
     "ename": "NameError",
     "evalue": "name 'get_loaders' is not defined",
     "output_type": "error",
     "traceback": [
      "\u001B[1;31m---------------------------------------------------------------------------\u001B[0m",
      "\u001B[1;31mNameError\u001B[0m                                 Traceback (most recent call last)",
      "Cell \u001B[1;32mIn[1], line 1\u001B[0m\n\u001B[1;32m----> 1\u001B[0m train_loader, val_loader \u001B[38;5;241m=\u001B[39m \u001B[43mget_loaders\u001B[49m(TRAIN_IMG_DIR,\n\u001B[0;32m      2\u001B[0m                                            TRAIN_MASK_DIR,\n\u001B[0;32m      3\u001B[0m                                            VAL_IMG_DIR,\n\u001B[0;32m      4\u001B[0m                                            VAL_MASK_DIR,\n\u001B[0;32m      5\u001B[0m                                            BATCH_SIZE,\n\u001B[0;32m      6\u001B[0m                                            train_transfrom,\n\u001B[0;32m      7\u001B[0m                                            val_transfrom,\n\u001B[0;32m      8\u001B[0m                                            NUM_WORKERS,\n\u001B[0;32m      9\u001B[0m                                            PIN_MEMORY\n\u001B[0;32m     10\u001B[0m                                            )\n",
      "\u001B[1;31mNameError\u001B[0m: name 'get_loaders' is not defined"
     ]
    }
   ],
   "source": [
    "from models.unet_from_scratch.utils import get_loaders\n",
    "train_loader, val_loader = get_loaders(TRAIN_IMG_DIR,\n",
    "                                           TRAIN_MASK_DIR,\n",
    "                                           VAL_IMG_DIR,\n",
    "                                           VAL_MASK_DIR,\n",
    "                                           BATCH_SIZE,\n",
    "                                           train_transfrom,\n",
    "                                           val_transfrom,\n",
    "                                           NUM_WORKERS,\n",
    "                                           PIN_MEMORY\n",
    "                                           )"
   ],
   "metadata": {
    "collapsed": false
   }
  },
  {
   "cell_type": "markdown",
   "source": [
    "## UNET"
   ],
   "metadata": {
    "collapsed": false
   }
  },
  {
   "cell_type": "code",
   "execution_count": null,
   "outputs": [],
   "source": [
    "model_unet = UNET_FROM_SCRATCH(in_channels=3, out_channels=1).to(DEVICE)\n",
    "if LOAD_MODEL:\n",
    "    load_checkpoint(torch.load('check_unet_scratch.pth.tar'), model_unet)\n",
    "print_measurements(val_loader, model_unet)\n",
    "save_predictions_as_imgs(val_loader, model_unet, folder=\"unet_validate/\", device=DEVICE)\n",
    "\n"
   ],
   "metadata": {
    "collapsed": false
   }
  },
  {
   "cell_type": "markdown",
   "source": [
    "### RESNET_UNET"
   ],
   "metadata": {
    "collapsed": false
   }
  },
  {
   "cell_type": "code",
   "execution_count": null,
   "outputs": [],
   "source": [
    "from models.unet_from_scratch.model import TrucnateResNET_UNET\n",
    "\n",
    "model_resnet_unet = TrucnateResNET_UNET().to(DEVICE)\n",
    "if LOAD_MODEL:\n",
    "    load_checkpoint(torch.load('check_resnet_unet.pth.tar'), model_resnet_unet)\n",
    "print_measurements(val_loader, model_resnet_unet)\n",
    "save_predictions_as_imgs(val_loader, model_resnet_unet, folder=\"resnet_validate/\", device=DEVICE)\n",
    "\n"
   ],
   "metadata": {
    "collapsed": false
   }
  }
 ],
 "metadata": {
  "kernelspec": {
   "display_name": "Python 3",
   "language": "python",
   "name": "python3"
  },
  "language_info": {
   "codemirror_mode": {
    "name": "ipython",
    "version": 2
   },
   "file_extension": ".py",
   "mimetype": "text/x-python",
   "name": "python",
   "nbconvert_exporter": "python",
   "pygments_lexer": "ipython2",
   "version": "2.7.6"
  }
 },
 "nbformat": 4,
 "nbformat_minor": 0
}
